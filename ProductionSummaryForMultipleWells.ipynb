{
 "cells": [
  {
   "cell_type": "code",
   "execution_count": 2,
   "metadata": {
    "scrolled": true
   },
   "outputs": [
    {
     "name": "stderr",
     "output_type": "stream",
     "text": [
      "C:\\Users\\pc\\Anaconda3\\lib\\site-packages\\ipykernel_launcher.py:36: FutureWarning: get_value is deprecated and will be removed in a future release. Please use .at[] or .iat[] accessors instead\n",
      "C:\\Users\\pc\\Anaconda3\\lib\\site-packages\\ipykernel_launcher.py:37: FutureWarning: get_value is deprecated and will be removed in a future release. Please use .at[] or .iat[] accessors instead\n",
      "C:\\Users\\pc\\Anaconda3\\lib\\site-packages\\ipykernel_launcher.py:38: FutureWarning: get_value is deprecated and will be removed in a future release. Please use .at[] or .iat[] accessors instead\n"
     ]
    }
   ],
   "source": [
    "import pandas as pd\n",
    "import os\n",
    "import xlsxwriter\n",
    "\n",
    "path = os.getcwd()\n",
    "files = os.listdir(path)\n",
    "files_xlsx = [f for f in files if f[:3] == 'API']\n",
    "\n",
    "workbook = xlsxwriter.Workbook('AllWellsProdSum.xlsx')\n",
    "worksheet = workbook.add_worksheet('ProdSummary')\n",
    "\n",
    "worksheet.write('A1', 'API')\n",
    "worksheet.write('B1', 'Latitude')\n",
    "worksheet.write('C1', 'Longitude')\n",
    "worksheet.write('D1', 'Cum_Oil')\n",
    "worksheet.write('E1', 'Cum_Water')\n",
    "worksheet.write('F1', 'Cum_Gas')\n",
    "worksheet.write('G1', 'Days_Produced')\n",
    "\n",
    "with open(\"AllWellsProdSum.xlsx\", 'w') as file:\n",
    "    \n",
    " \n",
    "    row = 1\n",
    "    col = 0\n",
    "   \n",
    "    for well in files_xlsx:\n",
    "        df = pd.read_excel(well)\n",
    "        new_header = df.iloc[2]\n",
    "        df.columns = new_header \n",
    "        df2 = df[df['Production Date'].str.contains(\"Total\", na = False)] \n",
    "        Cum_Oil = df2['Oil Produced (bbl)'].sum()\n",
    "        Cum_Water = df2['Water Produced (bbl)'].sum()\n",
    "        Cum_Gas = df2['Gas Produced (Mcf)'].sum()\n",
    "        Days_Produced = df2['Days Well Produced'].sum()\n",
    "\n",
    "        worksheet.write(row, col,     '04'+(df.get_value(0, \"API Number\", takeable=False)))\n",
    "        worksheet.write(row, col + 1, (df.get_value(0, \"Well Type\", takeable=False)))\n",
    "        worksheet.write(row, col + 2, (df.get_value(0, \"Status\", takeable=False)))                                                                     \n",
    "        worksheet.write(row, col + 3, Cum_Oil)\n",
    "        worksheet.write(row, col + 4, Cum_Water)\n",
    "        worksheet.write(row, col + 5, Cum_Gas)\n",
    "        worksheet.write(row, col + 6, Days_Produced)\n",
    "\n",
    "        row += 1\n",
    "        \n",
    "workbook.close()\n",
    "        \n",
    "\n"
   ]
  },
  {
   "cell_type": "code",
   "execution_count": null,
   "metadata": {},
   "outputs": [],
   "source": []
  },
  {
   "cell_type": "code",
   "execution_count": null,
   "metadata": {},
   "outputs": [],
   "source": []
  }
 ],
 "metadata": {
  "kernelspec": {
   "display_name": "Python 3",
   "language": "python",
   "name": "python3"
  },
  "language_info": {
   "codemirror_mode": {
    "name": "ipython",
    "version": 3
   },
   "file_extension": ".py",
   "mimetype": "text/x-python",
   "name": "python",
   "nbconvert_exporter": "python",
   "pygments_lexer": "ipython3",
   "version": "3.7.1"
  }
 },
 "nbformat": 4,
 "nbformat_minor": 2
}
